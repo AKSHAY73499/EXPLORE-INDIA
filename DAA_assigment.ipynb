{
  "nbformat": 4,
  "nbformat_minor": 0,
  "metadata": {
    "colab": {
      "provenance": [],
      "authorship_tag": "ABX9TyM59tgp7nRFs6OazVL9ltfL",
      "include_colab_link": true
    },
    "kernelspec": {
      "name": "python3",
      "display_name": "Python 3"
    },
    "language_info": {
      "name": "python"
    }
  },
  "cells": [
    {
      "cell_type": "markdown",
      "metadata": {
        "id": "view-in-github",
        "colab_type": "text"
      },
      "source": [
        "<a href=\"https://colab.research.google.com/github/AKSHAY73499/EXPLORE-INDIA/blob/main/DAA_assigment.ipynb\" target=\"_parent\"><img src=\"https://colab.research.google.com/assets/colab-badge.svg\" alt=\"Open In Colab\"/></a>"
      ]
    },
    {
      "cell_type": "code",
      "execution_count": null,
      "metadata": {
        "id": "fo5LCLF5WSqF"
      },
      "outputs": [],
      "source": [
        "# #Linear Search\tO(n)\n",
        "\n",
        "def linear_search(arr, target):\n",
        "    for i in range(len(arr)):\n",
        "        if arr[i] == target:\n",
        "            return i\n",
        "    return -1\n",
        "\n",
        "arr = list(map(int, input(\"Enter array elements: \").split()))\n",
        "target = int(input(\"Enter element to search: \"))\n",
        "index = linear_search(arr, target)\n",
        "\n",
        "if index != -1:\n",
        "    print(f\"Element found at index {index}\")\n",
        "else:\n",
        "    print(\"Element not found\")\n",
        "\n",
        "\n",
        "\n"
      ]
    },
    {
      "cell_type": "code",
      "source": [
        "#Binary Search\tO(log n) (requires sorted array)\n",
        "\n",
        "def binary_search(arr, target):\n",
        "    arr.sort()\n",
        "    low, high = 0, len(arr) - 1\n",
        "    while low <= high:\n",
        "        mid = (low + high) // 2\n",
        "        if arr[mid] == target:\n",
        "            return mid\n",
        "        elif arr[mid] < target:\n",
        "            low = mid + 1\n",
        "        else:\n",
        "            high = mid - 1\n",
        "    return -1\n",
        "\n",
        "arr = list(map(int, input(\"Enter sorted array elements: \").split()))\n",
        "target = int(input(\"Enter element to search: \"))\n",
        "index = binary_search(arr, target)\n",
        "\n",
        "if index != -1:\n",
        "    print(f\"Element found at index {index}\")\n",
        "else:\n",
        "    print(\"Element not found\")\n"
      ],
      "metadata": {
        "id": "yKDGe1ByWW7b"
      },
      "execution_count": null,
      "outputs": []
    },
    {
      "cell_type": "code",
      "source": [
        "#Bubble Sort\tO(n²)\n",
        "\n",
        "def bubble_sort(arr):\n",
        "    n = len(arr)\n",
        "    for i in range(n):\n",
        "        for j in range(n-i-1):\n",
        "            if arr[j] > arr[j+1]:\n",
        "                arr[j], arr[j+1] = arr[j+1], arr[j]\n",
        "    return arr\n",
        "\n",
        "arr = list(map(int, input(\"Enter array elements: \").split()))\n",
        "sorted_arr = bubble_sort(arr)\n",
        "print(\"Sorted array:\", sorted_arr)\n"
      ],
      "metadata": {
        "id": "N4rSLjJ3Wbp4"
      },
      "execution_count": null,
      "outputs": []
    },
    {
      "cell_type": "code",
      "source": [
        "#Selection Sort\tO(n²)\n",
        "\n",
        "def selection_sort(arr):\n",
        "    for i in range(len(arr)):\n",
        "        min_idx = i\n",
        "        for j in range(i+1, len(arr)):\n",
        "            if arr[j] < arr[min_idx]:\n",
        "                min_idx = j\n",
        "        arr[i], arr[min_idx] = arr[min_idx], arr[i]\n",
        "    return arr\n",
        "\n",
        "arr = list(map(int, input(\"Enter array elements: \").split()))\n",
        "sorted_arr = selection_sort(arr)\n",
        "print(\"Sorted array:\", sorted_arr)\n"
      ],
      "metadata": {
        "id": "Yr0SfOl_Wes3"
      },
      "execution_count": null,
      "outputs": []
    },
    {
      "cell_type": "code",
      "source": [
        "#Insertion Sort\tO(n²)\n",
        "\n",
        "def insertion_sort(arr):\n",
        "    for i in range(1, len(arr)):\n",
        "        key = arr[i]\n",
        "        j = i - 1\n",
        "        while j >= 0 and arr[j] > key:\n",
        "            arr[j + 1] = arr[j]\n",
        "            j -= 1\n",
        "        arr[j + 1] = key\n",
        "    return arr\n",
        "\n",
        "arr = list(map(int, input(\"Enter array elements: \").split()))\n",
        "sorted_arr = insertion_sort(arr)\n",
        "print(\"Sorted array:\", sorted_arr)\n"
      ],
      "metadata": {
        "id": "8tp3jWKmWk4w"
      },
      "execution_count": null,
      "outputs": []
    },
    {
      "cell_type": "code",
      "source": [
        "#Merge Sort\tO(n log n)\n",
        "\n",
        "def merge_sort(arr):\n",
        "    if len(arr) <= 1:\n",
        "        return arr\n",
        "    mid = len(arr) // 2\n",
        "    left = merge_sort(arr[:mid])\n",
        "    right = merge_sort(arr[mid:])\n",
        "    return merge(left, right)\n",
        "\n",
        "def merge(left, right):\n",
        "    result = []\n",
        "    i = j = 0\n",
        "    while i < len(left) and j < len(right):\n",
        "        if left[i] < right[j]:\n",
        "            result.append(left[i])\n",
        "            i += 1\n",
        "        else:\n",
        "            result.append(right[j])\n",
        "            j += 1\n",
        "    result += left[i:]\n",
        "    result += right[j:]\n",
        "    return result\n",
        "\n",
        "arr = list(map(int, input(\"Enter array elements: \").split()))\n",
        "sorted_arr = merge_sort(arr)\n",
        "print(\"Sorted array:\", sorted_arr)\n"
      ],
      "metadata": {
        "id": "-bXCexZEWnd3"
      },
      "execution_count": null,
      "outputs": []
    },
    {
      "cell_type": "code",
      "source": [
        "#Quick Sort\tO(n²) (if pivot is worst)\n",
        "\n",
        "def quick_sort(arr):\n",
        "    if len(arr) <= 1:\n",
        "        return arr\n",
        "    pivot = arr[0]\n",
        "    less = [x for x in arr[1:] if x < pivot]\n",
        "    greater = [x for x in arr[1:] if x >= pivot]\n",
        "    return quick_sort(less) + [pivot] + quick_sort(greater)\n",
        "\n",
        "arr = list(map(int, input(\"Enter array elements: \").split()))\n",
        "sorted_arr = quick_sort(arr)\n",
        "print(\"Sorted array:\", sorted_arr)\n",
        "\n"
      ],
      "metadata": {
        "id": "6C-KuxoXWpwi"
      },
      "execution_count": null,
      "outputs": []
    }
  ]
}